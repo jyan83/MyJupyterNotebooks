{
 "cells": [
  {
   "cell_type": "markdown",
   "metadata": {},
   "source": [
    "# Start to write and record research notes in Jupyter notebook!\n",
    "I am rencently trying to organize my website and all the research project. Also doing a lot of literature review and brainstorming recently. Sometimes I write it done in the papers, sometimes I just read it and easily forget it in 1 day and the most convenient way is starting to wrte study notes in Latex. I use Latex to write papers, so if I write it in the Latex, it will be easy for me to reformatting it to a paper.\n",
    "However, inspired by Dr.Sylvain Deville's blog <a href=\"https://sylvaindeville.net/2015/01/04/the-automated-academic/\">\"The Automated Academic\"</a>, I think maybe I could be a cool \"geek\" as him, let me try to use Jupyter notebook!\n",
    "Beside the resources he metioned in the blog, can I try to writedown my ideas in the iPhone? The answer is \"Yes!\". I found out an IOS app called <a href=\"https://juno.sh/\">\"Juno\"</a>. I haven't used it yet, but seems pretty cool.\n",
    "\n",
    "## How to embed Jupyter notebook in html?\n",
    "I know that you can directly download the jupyter notebook as a html file, but it does not combined well with my website. How can I just embed a Jupyter notebook in a small part of my website page?\n",
    "I found out this blog page: <a href=\"https://sharmamohit.com/work/post/jupyter-notebooks-in-blog/\">\"jupyter notebooks in blog\"</a> and then modified a little bit myself:\n",
    "* Dwonload the notebook to as a normal HTML.\n",
    "* Dwonload the css of Jupyter notebook (<a href=\"https://sharmamohit.com/css/jupyter.css\">Here</a>).\n",
    "* Save the downloaded css file in your website's css file folder.\n",
    "* Change your normal html css styles into the one you just downloaded.\n",
    "* Scroll down the HTML file you just downloaded from Jupyter to the bottom. Copy the main text body and paste it into your normal html file.\n",
    "* Adjusting the layout as you want, for example, I deleted the line to make the text line up to the left:"
   ]
  },
  {
   "cell_type": "code",
   "execution_count": null,
   "metadata": {},
   "outputs": [],
   "source": [
    "<div class=\"cell border-box-sizing text_cell rendered\"><div class=\"prompt input_prompt\">\n",
    "</div>"
   ]
  }
 ],
 "metadata": {
  "kernelspec": {
   "display_name": "Python 3",
   "language": "python",
   "name": "python3"
  },
  "language_info": {
   "codemirror_mode": {
    "name": "ipython",
    "version": 3
   },
   "file_extension": ".py",
   "mimetype": "text/x-python",
   "name": "python",
   "nbconvert_exporter": "python",
   "pygments_lexer": "ipython3",
   "version": "3.7.1"
  },
  "widgets": {
   "application/vnd.jupyter.widget-state+json": {
    "state": {},
    "version_major": 2,
    "version_minor": 0
   }
  }
 },
 "nbformat": 4,
 "nbformat_minor": 2
}
