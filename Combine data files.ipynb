{
 "cells": [
  {
   "cell_type": "markdown",
   "metadata": {},
   "source": [
    "\n",
    "# Combine data files under different directories\n",
    "    \n",
    "For example:  \n",
    "* Parent Folder      \n",
    "    * Folder  \n",
    "    * Folder  \n",
    "        * data1.csv    \n",
    "        * data2.csv  \n",
    "    * Folder    \n",
    "        * Folder    \n",
    "            * data1.csv  \n",
    "            * data2.csv\n",
    "\n",
    "This is a normal data file folder you would have when you collecting data from the experiments. Each run of the test may have different data files saved from each chanel. How do you extract all these data files to the parent folder and combine them together?\n",
    "\n",
    "The following code might help you."
   ]
  },
  {
   "cell_type": "markdown",
   "metadata": {},
   "source": [
    "Import module first. "
   ]
  },
  {
   "cell_type": "code",
   "execution_count": 8,
   "metadata": {},
   "outputs": [],
   "source": [
    "import os.path\n",
    "import os\n",
    "import numpy as np"
   ]
  },
  {
   "cell_type": "markdown",
   "metadata": {},
   "source": [
    "Get the current working directory."
   ]
  },
  {
   "cell_type": "code",
   "execution_count": 9,
   "metadata": {},
   "outputs": [],
   "source": [
    "working_dir = os.getcwd()"
   ]
  },
  {
   "cell_type": "markdown",
   "metadata": {},
   "source": [
    "You will walk down to all the directories under the current parent directory, extracting all files ends with the name you set. The datasets will be combined and renamed with the directory folder name where it extracted. All the datasets finally saved in a folder names \"data\"."
   ]
  },
  {
   "cell_type": "code",
   "execution_count": 12,
   "metadata": {},
   "outputs": [],
   "source": [
    "# walking to the directory top-down\n",
    "for root, dirs, files in os.walk(working_dir):\n",
    "# preallocate file list\n",
    "    file_list = []\n",
    "    for filename in files:\n",
    "         # match files that match this name\n",
    "        if filename.endswith('sec_1-4_001.lvm'):\n",
    "            D_SEC_1 = np.loadtxt(os.path.join(root, filename))\n",
    "            file_list.append(os.path.join(root, filename)) \n",
    "        elif filename.endswith('sec_5-8_001.lvm'):\n",
    "            D_SEC_2 = np.loadtxt(os.path.join(root, filename))\n",
    "            file_list.append(os.path.join(root, filename)) \n",
    "        elif filename.endswith('sec_9-12_001.lvm'):\n",
    "            D_SEC_3 = np.loadtxt(os.path.join(root, filename))\n",
    "            file_list.append(os.path.join(root, filename)) \n",
    "        elif filename.endswith('sec_13-16_001.lvm'):\n",
    "            D_SEC_4 = np.loadtxt(os.path.join(root, filename))\n",
    "            file_list.append(os.path.join(root, filename)) \n",
    "        elif filename.endswith('sec_17-20_001.lvm'):\n",
    "            D_SEC_5 = np.loadtxt(os.path.join(root, filename))\n",
    "            file_list.append(os.path.join(root, filename))\n",
    "            \n",
    "    # save current directory's data in a list\n",
    "    df_list = [np.loadtxt(file) for file in file_list]\n",
    "    if df_list:\n",
    "        # constrain all sec arrays are the same dimensions\n",
    "        rows = min(len(D_SEC_1),len(D_SEC_2),len(D_SEC_3),len(D_SEC_4),len(D_SEC_5))\n",
    "        D_SEC_1 = D_SEC_1[0:rows,0:5]\n",
    "        D_SEC_2 = D_SEC_2[0:rows,0:5]\n",
    "        D_SEC_3 = D_SEC_3[0:rows,0:5]\n",
    "        D_SEC_4 = D_SEC_4[0:rows,0:5]\n",
    "        D_SEC_5 = D_SEC_5[0:rows,0:5]\n",
    "        \n",
    "        # combine the SEC data from one test in order\n",
    "        SEC = np.concatenate((D_SEC_1,D_SEC_2,D_SEC_3,D_SEC_4,D_SEC_5),axis = 1)\n",
    "        \n",
    "        # define data filename\n",
    "        # get the directory names from parent to current directories\n",
    "        temp = root.replace(working_dir,\"\")\n",
    "        # remove first backslash\n",
    "        temp = temp[1:]\n",
    "        # replace slashes to \"_\"\n",
    "        dirname = temp.replace(\"\\\\\",\"_\")\n",
    "        # replace spaces to \"_\"\n",
    "        dirname = dirname.replace(\" \",\"_\")"
   ]
  }
 ],
 "metadata": {
  "kernelspec": {
   "display_name": "Python 3",
   "language": "python",
   "name": "python3"
  },
  "language_info": {
   "codemirror_mode": {
    "name": "ipython",
    "version": 3
   },
   "file_extension": ".py",
   "mimetype": "text/x-python",
   "name": "python",
   "nbconvert_exporter": "python",
   "pygments_lexer": "ipython3",
   "version": "3.7.1"
  }
 },
 "nbformat": 4,
 "nbformat_minor": 2
}
